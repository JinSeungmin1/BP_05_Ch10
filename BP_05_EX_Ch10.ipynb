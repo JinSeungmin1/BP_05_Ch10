{
  "nbformat": 4,
  "nbformat_minor": 0,
  "metadata": {
    "colab": {
      "provenance": [],
      "authorship_tag": "ABX9TyN3R5wD5N8cmyjvxbGZvx/j",
      "include_colab_link": true
    },
    "kernelspec": {
      "name": "python3",
      "display_name": "Python 3"
    },
    "language_info": {
      "name": "python"
    }
  },
  "cells": [
    {
      "cell_type": "markdown",
      "metadata": {
        "id": "view-in-github",
        "colab_type": "text"
      },
      "source": [
        "<a href=\"https://colab.research.google.com/github/JinSeungmin1/BP_05_Ch10/blob/main/BP_05_EX_Ch10.ipynb\" target=\"_parent\"><img src=\"https://colab.research.google.com/assets/colab-badge.svg\" alt=\"Open In Colab\"/></a>"
      ]
    },
    {
      "cell_type": "code",
      "execution_count": null,
      "metadata": {
        "colab": {
          "base_uri": "https://localhost:8080/",
          "height": 245
        },
        "id": "uKDD4lmCpudL",
        "outputId": "962fab95-e921-45b9-dc14-2ea8b8054136"
      },
      "outputs": [
        {
          "output_type": "error",
          "ename": "NameError",
          "evalue": "ignored",
          "traceback": [
            "\u001b[0;31m---------------------------------------------------------------------------\u001b[0m",
            "\u001b[0;31mNameError\u001b[0m                                 Traceback (most recent call last)",
            "\u001b[0;32m<ipython-input-1-c3b0c1a4ddc6>\u001b[0m in \u001b[0;36m<module>\u001b[0;34m\u001b[0m\n\u001b[1;32m      2\u001b[0m \u001b[0;34m\u001b[0m\u001b[0m\n\u001b[1;32m      3\u001b[0m \u001b[0;34m\u001b[0m\u001b[0m\n\u001b[0;32m----> 4\u001b[0;31m \u001b[0mprogram\u001b[0m \u001b[0;34m=\u001b[0m \u001b[0mLabel\u001b[0m\u001b[0;34m(\u001b[0m\u001b[0mwindow\u001b[0m\u001b[0;34m,\u001b[0m \u001b[0mtext\u001b[0m\u001b[0;34m=\u001b[0m\u001b[0;34m\"간단한 GUI 프로그램!\"\u001b[0m\u001b[0;34m)\u001b[0m\u001b[0;34m\u001b[0m\u001b[0;34m\u001b[0m\u001b[0m\n\u001b[0m\u001b[1;32m      5\u001b[0m \u001b[0mprogram\u001b[0m\u001b[0;34m.\u001b[0m\u001b[0mpack\u001b[0m\u001b[0;34m(\u001b[0m\u001b[0;34m)\u001b[0m\u001b[0;34m\u001b[0m\u001b[0;34m\u001b[0m\u001b[0m\n\u001b[1;32m      6\u001b[0m \u001b[0;34m\u001b[0m\u001b[0m\n",
            "\u001b[0;31mNameError\u001b[0m: name 'window' is not defined"
          ]
        }
      ],
      "source": [
        "from tkinter import *\n",
        "\n",
        "window = Tk()\n",
        "\n",
        "program = Label(window, text=\"간단한 GUI 프로그램!\") #프로그램 텍스트\n",
        "program.pack()\n",
        "\n",
        "firstBtn = Button(window, text=\"환영합니다.\") # 환영합니다 버튼 생성\n",
        "lastBtn  = Button(window, text=\"종료\") # 종료 버튼 생성\n",
        "\n",
        "firstBtn.pack()\n",
        "lastBtn.pack()\n",
        "\n",
        "window.mainloop()\n"
      ]
    },
    {
      "cell_type": "code",
      "source": [
        "def plus():\n",
        "    global total\n",
        "    total += int(e.get()) #e에 적은 숫자를 얻어서 int형으로 바꿔주고 total에 더해줌\n",
        "    display()#바뀐 결과를 화면에 표시해줌\n",
        "\n",
        "def minus():\n",
        "    global total\n",
        "    total -= int(e.get())#e에 적은 숫자를 얻어서 int형으로 바꿔주고 total에 빼줌\n",
        "    display()#바뀐 결과를 화면에 표시해줌\n",
        "\n",
        "def reset():\n",
        "    global total\n",
        "    total = 100\n",
        "    display()\n",
        "\n",
        "def display():\n",
        "    global l2\n",
        "    l2.destroy() #l2를 삭제함\n",
        "    l2 = Label(window,text=total)#l2를 새로 만듦\n",
        "    l2.grid(row=0,column=1) #새로 만든 l2를 원래 있던 l2의 위치인 0행 1열에 배치함\n",
        "\n",
        "\n",
        "from tkinter import *\n",
        "\n",
        "total = 100\n",
        "\n",
        "window = Tk()\n",
        "l1 = Label(window, text=\"현재 합계: \")\n",
        "l2 = Label(window, text=total)\n",
        "l1.grid(row=0,column=0) #0행 0열에 배치해줌\n",
        "l2.grid(row=0, column=1)\n",
        "\n",
        "e = Entry(window) #입력창을 만들어줌\n",
        "e.grid(row=1,column=0, columnspan=3) #1행 0열에 위치하고 열위치를 조정함\n",
        "\n",
        "b1 = Button(window, text=\"더하기(+)\", command=plus) #버튼을 누르면 plus함수를 실행\n",
        "b2 = Button(window, text=\"빼기(-)\", command=minus) #버튼을 누르면 minus함수를 실행\n",
        "b3 = Button(window, text=\"초기화\", command=reset) #버튼을 누르면 total을 100으로 만들어줌\n",
        "b1.grid(row=2, column=0)\n",
        "b2.grid(row=2, column=1)\n",
        "b3.grid(row=2, column=2)\n",
        "\n",
        "window.mainloop()\n"
      ],
      "metadata": {
        "id": "mjalFABYp703",
        "colab": {
          "base_uri": "https://localhost:8080/",
          "height": 372
        },
        "outputId": "3d198027-d459-45ea-dff2-0d7967a6ccf3"
      },
      "execution_count": 1,
      "outputs": [
        {
          "output_type": "error",
          "ename": "TclError",
          "evalue": "ignored",
          "traceback": [
            "\u001b[0;31m---------------------------------------------------------------------------\u001b[0m",
            "\u001b[0;31mTclError\u001b[0m                                  Traceback (most recent call last)",
            "\u001b[0;32m<ipython-input-1-c98aaaa0dcdf>\u001b[0m in \u001b[0;36m<module>\u001b[0;34m\u001b[0m\n\u001b[1;32m     25\u001b[0m \u001b[0mtotal\u001b[0m \u001b[0;34m=\u001b[0m \u001b[0;36m100\u001b[0m\u001b[0;34m\u001b[0m\u001b[0;34m\u001b[0m\u001b[0m\n\u001b[1;32m     26\u001b[0m \u001b[0;34m\u001b[0m\u001b[0m\n\u001b[0;32m---> 27\u001b[0;31m \u001b[0mwindow\u001b[0m \u001b[0;34m=\u001b[0m \u001b[0mTk\u001b[0m\u001b[0;34m(\u001b[0m\u001b[0;34m)\u001b[0m\u001b[0;34m\u001b[0m\u001b[0;34m\u001b[0m\u001b[0m\n\u001b[0m\u001b[1;32m     28\u001b[0m \u001b[0ml1\u001b[0m \u001b[0;34m=\u001b[0m \u001b[0mLabel\u001b[0m\u001b[0;34m(\u001b[0m\u001b[0mwindow\u001b[0m\u001b[0;34m,\u001b[0m \u001b[0mtext\u001b[0m\u001b[0;34m=\u001b[0m\u001b[0;34m\"현재 합계: \"\u001b[0m\u001b[0;34m)\u001b[0m\u001b[0;34m\u001b[0m\u001b[0;34m\u001b[0m\u001b[0m\n\u001b[1;32m     29\u001b[0m \u001b[0ml2\u001b[0m \u001b[0;34m=\u001b[0m \u001b[0mLabel\u001b[0m\u001b[0;34m(\u001b[0m\u001b[0mwindow\u001b[0m\u001b[0;34m,\u001b[0m \u001b[0mtext\u001b[0m\u001b[0;34m=\u001b[0m\u001b[0mtotal\u001b[0m\u001b[0;34m)\u001b[0m\u001b[0;34m\u001b[0m\u001b[0;34m\u001b[0m\u001b[0m\n",
            "\u001b[0;32m/usr/lib/python3.7/tkinter/__init__.py\u001b[0m in \u001b[0;36m__init__\u001b[0;34m(self, screenName, baseName, className, useTk, sync, use)\u001b[0m\n\u001b[1;32m   2021\u001b[0m                 \u001b[0mbaseName\u001b[0m \u001b[0;34m=\u001b[0m \u001b[0mbaseName\u001b[0m \u001b[0;34m+\u001b[0m \u001b[0mext\u001b[0m\u001b[0;34m\u001b[0m\u001b[0;34m\u001b[0m\u001b[0m\n\u001b[1;32m   2022\u001b[0m         \u001b[0minteractive\u001b[0m \u001b[0;34m=\u001b[0m \u001b[0;36m0\u001b[0m\u001b[0;34m\u001b[0m\u001b[0;34m\u001b[0m\u001b[0m\n\u001b[0;32m-> 2023\u001b[0;31m         \u001b[0mself\u001b[0m\u001b[0;34m.\u001b[0m\u001b[0mtk\u001b[0m \u001b[0;34m=\u001b[0m \u001b[0m_tkinter\u001b[0m\u001b[0;34m.\u001b[0m\u001b[0mcreate\u001b[0m\u001b[0;34m(\u001b[0m\u001b[0mscreenName\u001b[0m\u001b[0;34m,\u001b[0m \u001b[0mbaseName\u001b[0m\u001b[0;34m,\u001b[0m \u001b[0mclassName\u001b[0m\u001b[0;34m,\u001b[0m \u001b[0minteractive\u001b[0m\u001b[0;34m,\u001b[0m \u001b[0mwantobjects\u001b[0m\u001b[0;34m,\u001b[0m \u001b[0museTk\u001b[0m\u001b[0;34m,\u001b[0m \u001b[0msync\u001b[0m\u001b[0;34m,\u001b[0m \u001b[0muse\u001b[0m\u001b[0;34m)\u001b[0m\u001b[0;34m\u001b[0m\u001b[0;34m\u001b[0m\u001b[0m\n\u001b[0m\u001b[1;32m   2024\u001b[0m         \u001b[0;32mif\u001b[0m \u001b[0museTk\u001b[0m\u001b[0;34m:\u001b[0m\u001b[0;34m\u001b[0m\u001b[0;34m\u001b[0m\u001b[0m\n\u001b[1;32m   2025\u001b[0m             \u001b[0mself\u001b[0m\u001b[0;34m.\u001b[0m\u001b[0m_loadtk\u001b[0m\u001b[0;34m(\u001b[0m\u001b[0;34m)\u001b[0m\u001b[0;34m\u001b[0m\u001b[0;34m\u001b[0m\u001b[0m\n",
            "\u001b[0;31mTclError\u001b[0m: no display name and no $DISPLAY environment variable"
          ]
        }
      ]
    },
    {
      "cell_type": "code",
      "source": [
        "from tkinter import *\n",
        "import random\n",
        "\n",
        "window = Tk()\n",
        "num = 0\n",
        "betNum = random.randint(1,100)\n",
        "\n",
        "def run():\n",
        "    global num\n",
        "    global betNum\n",
        "\n",
        "    num = int(e.get())\n",
        "    if num < betNum:\n",
        "        firstLabel['text'] = \"너무 낮아요!!\"\n",
        "    elif num > betNum:\n",
        "        firstLabel['text'] = \"너무 높아요!!\"\n",
        "    else:\n",
        "        firstLabel['text'] = \"정답입니다!\"\n",
        "\n",
        "def reset():\n",
        "    global num\n",
        "    global betNum\n",
        "\n",
        "    e.delete(0,END)\n",
        "    secondLabel.config(text=\"\")\n",
        "    betNum = random.randint(1,100)\n",
        "    num = 0\n",
        "\n",
        "firstLabel = Label(window, text=\"1에서 100사이의 수를 입력하세요.\")\n",
        "secondLabel = Label(window,)\n",
        "thridLabel = Label(window, )\n",
        "\n",
        "firstLabel.grid(row=1, column=0, columnspan=2)\n",
        "secondLabel.grid(row=2, column=0, columnspan=2)\n",
        "thridLabel.grid(row=4, column=0, columnspan=2)\n",
        "\n",
        "e = Entry(window)\n",
        "e.grid(row=3, column=0, columnspan=2)\n",
        "\n",
        "firstBtn = Button(window, text=\"숫자를 입력\", command = run)\n",
        "secondBtn= Button(window, text=\"게임을 다시 실행\", command = reset)\n",
        "\n",
        "firstBtn.grid(row=5, column=0)\n",
        "secondBtn.grid(row=5, column=1)\n",
        "\n",
        "window.mainloop()"
      ],
      "metadata": {
        "id": "emtKYEqJCLY9"
      },
      "execution_count": null,
      "outputs": []
    },
    {
      "cell_type": "code",
      "source": [
        "def changedInch():\n",
        "    inch  = int(e.get())  \n",
        "    centi = inch * 2.54 # 인치 -> 센티미터\n",
        "    forthLabel.configure(text = str(centi)+\" 센티미터\") \n",
        "    \n",
        "\n",
        "from tkinter import *\n",
        "\n",
        "window = Tk()\n",
        "\n",
        "firstLabel = Label(window, text = \"인치를 센티미터로 변환하는 프로그램: \")\n",
        "firstLabel.grid(row=0, column=0,columnspan=2) \n",
        "\n",
        "secondLabel = Label(window, text = \"인치를 입력하시오:\")\n",
        "secondLabel.grid(row=1, column=0)\n",
        "\n",
        "e = Entry()\n",
        "e.grid(row=1, column=1)\n",
        "\n",
        "thirdLabel = Label(window, text = \"변환결과:\")\n",
        "thirdLabel.grid(row=2, column=0)\n",
        "\n",
        "forthLabel = Label(window, text = \"0 센티미터\")\n",
        "\n",
        "forthLabel.grid(row=2, column=1)\n",
        "\n",
        "changeBtn = Button(window, text=\"변환!\", command=changedInch)\n",
        "changeBtn.grid(row=3, column=1)\n",
        "\n",
        "window.mainloop()"
      ],
      "metadata": {
        "id": "tAfDeOsRCWLk"
      },
      "execution_count": null,
      "outputs": []
    },
    {
      "cell_type": "code",
      "source": [
        "from tkinter import *\n",
        "\n",
        "window = Tk()\n",
        "\n",
        "l1= Label(window,text=\"이름\")\n",
        "l2= Label(window,text=\"직업\")\n",
        "l3= Label(window,text=\"국적\")\n",
        "\n",
        "l1.grid(row=0,column=0)\n",
        "l2.grid(row=1,column=0)\n",
        "l3.grid(row=2,column=0)\n",
        "\n",
        "e1=Entry(window)\n",
        "e2=Entry(window)\n",
        "e3=Entry(window)\n",
        "\n",
        "e1.grid(row=0,column=1)\n",
        "e2.grid(row=1,column=1)\n",
        "e3.grid(row=2,column=1)\n",
        "\n",
        "b1=Button(window,text=\"Show\")\n",
        "b2=Button(window,text=\"Quit\")\n",
        "\n",
        "b1.grid(row=3,column=0)\n",
        "b2.grid(row=3,column=1)\n",
        "\n",
        "window.mainloop()"
      ],
      "metadata": {
        "id": "mD2yYZnoCS98"
      },
      "execution_count": null,
      "outputs": []
    },
    {
      "cell_type": "code",
      "source": [
        "from tkinter import *\n",
        "import random\n",
        "\n",
        "def change_image(x):\n",
        "    y = random.randint(1,3)\n",
        "    change1(x) #change1 함수를 통해 사용자가 선택한 것으로 사진을 바꿔 줌\n",
        "    change2(y) #change2 함수를 통해 랜덤으로 돌린 숫자로 사진을 바꿔 줌\n",
        "    game(x,y) #결과값을 보여주는 함수\n",
        "\n",
        "def change1(x): #사용자 사진 교체\n",
        "    photo1 = PhotoImage(file=A[x])\n",
        "    label1.configure(image=photo1)\n",
        "    label1.image = photo1\n",
        "\n",
        "def change2(x): #컴퓨터 사진 교체\n",
        "    photo2 = PhotoImage(file=A[x])\n",
        "    label3.configure(image=photo2)\n",
        "    label3.image = photo2\n",
        "\n",
        "def game(x,y):\n",
        "    def win(): #사용자가 가위바위보를 이겼을 경우\n",
        "        label2.configure(text=\">>>>>\")\n",
        "        label4.configure(text=\"사용자 승!\")\n",
        "    def lose(): #사용자가 졌을 경우\n",
        "        label2.configure(text=\"<<<<<\")\n",
        "        label4.configure(text=\"사용자 패배!\")\n",
        "    def draw(): #비겼을 경우\n",
        "        label2.configure(text=\"=====\")\n",
        "        label4.configure(text=\"비겼습니다!\")\n",
        "\n",
        "    if x==1: #사용자가 주먹을 냈을 때\n",
        "        if y==1:draw()\n",
        "        elif y==2:lose()\n",
        "        else:win()\n",
        "    elif x==2: #사용자가 가위를 냈을 때\n",
        "        if y==1:win()\n",
        "        elif y==2:draw()\n",
        "        else:lose()\n",
        "    else: #사용자가 보를 냈을 때\n",
        "        if y==1:lose()\n",
        "        elif y==2:win()\n",
        "        else:draw()\n",
        "\n",
        "window = Tk()\n",
        "font1 = (\"굴림체\",25,\"bold\") #폰트 설정\n",
        "font2 = (\"굴림체\",20,\"bold\") #폰트 설정\n",
        "A = {1:\"C:/사용자/wls12/pictures/스크린샷/주먹\",2:\"C:/사용자/wls12/pictures/스크린샷/가위\",3:\"C:/사용자/wls12/pictures/스크린샷/보\"} #딕셔너리를 이용해 파일 경로를 저장해서 불러오기 편하게 해줌\n",
        "\n",
        "photo1 = PhotoImage(file=A[3]) #파일 경로를 설정하여 사진을 불러옴\n",
        "photo2 = PhotoImage(file=A[3]) #파일 경로를 설정하여 사진을 불러옴\n",
        "\n",
        "label1 = Label(window, image=photo1)\n",
        "label2 = Label(window, text = \"=====\",font=font1)\n",
        "label3 = Label(window, image=photo2)\n",
        "label1.grid(row=0, column=0)\n",
        "label2.grid(row=0, column=1, padx=50)\n",
        "label3.grid(row=0, column=2)\n",
        "\n",
        "label4 = Label(window, text = \"무승부!\",font=font2,fg=\"green\")\n",
        "label4.grid(row=1, column=1)\n",
        "\n",
        "button1 = Button(window,text=\"바위\",command=lambda: change_image(1))\n",
        "#바위 버튼을 누르면 change_image함수에 1의 값을 넣어 실행함\n",
        "button2 = Button(window,text=\"보\",command=lambda: change_image(2))\n",
        "#보 버튼을 누르면 change_image함수에 2의 값을 넣어 실행함\n",
        "button3 = Button(window,text=\"가위\",command=lambda: change_image(3))\n",
        "#가위 버튼을 누르면 change_image함수에 3의 값을 넣어 실행함\n",
        "button1.grid(row=2,column=0,ipadx=50)\n",
        "button2.grid(row=2,column=1,ipadx=50)\n",
        "button3.grid(row=2,column=2,ipadx=50)\n",
        "\n",
        "window.mainloop()"
      ],
      "metadata": {
        "id": "3e1q-qmcE7sB"
      },
      "execution_count": null,
      "outputs": []
    }
  ]
}